{
 "cells": [
  {
   "cell_type": "markdown",
   "metadata": {},
   "source": [
    "# Paper 3 (Linear stability analysis plots)\n",
    "2022-03-17 Version 0.1"
   ]
  },
  {
   "cell_type": "code",
   "execution_count": 1,
   "metadata": {},
   "outputs": [],
   "source": [
    "# Load packages\n",
    "import numpy as np\n",
    "import matplotlib.pyplot as plt\n",
    "import math\n"
   ]
  },
  {
   "cell_type": "markdown",
   "metadata": {},
   "source": [
    "## Square well free energy"
   ]
  },
  {
   "cell_type": "code",
   "execution_count": 2,
   "metadata": {},
   "outputs": [],
   "source": [
    "# Define the fixed concentration scale phi = r_0/alpha,\n",
    "# so that rho = (N/V) sigma^3 is given as rho = phi * c.\n",
    "\n",
    "# Parameter phi =  8.0/7.0 approximately, according\n",
    "# to the Paper 2 analysis of the decrease of the clearing point temperature\n",
    "# with increasing nanoparticle volume fraction.\n",
    "\n",
    "phi = 8.0/7.0\n",
    "\n",
    "# Parameter mu_bar_0 = epsilon/(sigma**3 * alpha)\n",
    "mu_bar_0 = 0.1  # Wild guess :-)\n",
    "\n",
    "# Define parameters for the SW free energy, at selected values of lambda, \n",
    "# as given by Sastre et al. https://doi.org/10.1080/00268976.2017.1392051\n",
    "\n",
    "b0 = {\n",
    "    1.1:   -0.74484,\n",
    "    1.2:   -1.51817,\n",
    "    1.3:   -2.40494,\n",
    "    1.4:   -3.46854,\n",
    "    1.5:   -4.74229,\n",
    "    1.6:   -6.24987,\n",
    "    1.7:   -8.01193,\n",
    "    1.8:   -10.0523\n",
    "}\n",
    "\n",
    "b1 = {\n",
    "    1.1:   -0.382173,\n",
    "    1.2:   -1.58568,\n",
    "    1.3:   -3.04343,\n",
    "    1.4:   -4.36238,\n",
    "    1.5:   -5.34853,\n",
    "    1.6:   -5.88535,\n",
    "    1.7:   -5.8906,\n",
    "    1.8:   -5.27555\n",
    "}\n",
    "\n",
    "b2 = {\n",
    "    1.1:    -1.63313,\n",
    "    1.2:    -1.40168,\n",
    "    1.3:    -1.16285,\n",
    "    1.4:     1.46006,\n",
    "    1.5:     3.10155,\n",
    "    1.6:     4.48369,\n",
    "    1.7:     5.34814,\n",
    "    1.8:     5.38749\n",
    "}"
   ]
  },
  {
   "cell_type": "code",
   "execution_count": 3,
   "metadata": {
    "pycharm": {
     "name": "#%%\n"
    }
   },
   "outputs": [],
   "source": [
    "# For lambda = 1.1, A2 = a0 rho* + a1 rho*^2 + a2 rho*^3\n",
    "a0=-0.315714\n",
    "a1=-0.405783\n",
    "a2=0.4394\n",
    "\n",
    "# Matrix A collects constants for cases lambda> 1.1, \n",
    "# when A2 = g2 rho* exp(-h2 rho*^2) + f2 tanh( c2 rho*)  \n",
    "#  g2,        h2,     f2,        c2\n",
    "#A=np.array( [[0,0,0,0],\n",
    "#   [-0.754123,1.54113, 0       , 0     ],    # lambda = 1.20\n",
    "#   [-0.400299,4.81518,-0.221092,3.42486],    # lambda = 1.30\n",
    "#   [-0.311957,9.62637,-0.275382,4.80383],    # lambda = 1.40\n",
    "#   [-0.301985,12.7563,-0.305239,6.10676],    # lambda = 1.50\n",
    "#   [-0.242938,10.8684,-0.333435,7.67705],    # lambda = 1.60\n",
    "#   [-0.310091,16.5368,-0.376464,8.31355],    # lambda = 1.70\n",
    "#   [ 0.385677,1.98941,-0.539128,8.40071]])   # lambda = 1.80, WARNING g2 was (-) in Ref.\n",
    "\n",
    "\n",
    "g2 = {\n",
    "    1.2:    -0.754123,\n",
    "    1.3:    -0.400299,\n",
    "    1.4:    -0.311957,\n",
    "    1.5:    -0.301985,\n",
    "    1.6:    -0.242938,\n",
    "    1.7:    -0.310091,\n",
    "    1.8:     0.385677    # WARNING g2 was incorrectly given as negative for lambda = 1.80 in\n",
    "                         # Sastre et al. https://doi.org/10.1080/00268976.2017.1392051\n",
    "}\n",
    "\n",
    "h2 = {\n",
    "    1.2:    1.54113,\n",
    "    1.3:    4.81518,\n",
    "    1.4:    9.62637,\n",
    "    1.5:    12.7563,\n",
    "    1.6:    10.8684,\n",
    "    1.7:    16.5368,\n",
    "    1.8:    1.98941,\n",
    "}\n",
    "\n",
    "f2 = {\n",
    "    1.2:     0.000000,\n",
    "    1.3:    -0.221092,\n",
    "    1.4:    -0.275382,\n",
    "    1.5:    -0.305239,\n",
    "    1.6:    -0.333435,\n",
    "    1.7:    -0.376464,\n",
    "    1.8:    -0.539128,\n",
    "}\n",
    "\n",
    "c2 = {\n",
    "    1.2:   0.00000,\n",
    "    1.3:   3.42486,\n",
    "    1.4:   4.80383,\n",
    "    1.5:   6.10676,\n",
    "    1.6:   7.67705,\n",
    "    1.7:   8.31355,\n",
    "    1.8:   8.40071\n",
    "}"
   ]
  },
  {
   "cell_type": "markdown",
   "metadata": {},
   "source": [
    "### Hard sphere aHS"
   ]
  },
  {
   "cell_type": "code",
   "execution_count": 4,
   "metadata": {},
   "outputs": [],
   "source": [
    "# We use _c_ as our scaled concentration variable, with  rho* = phi c.\n",
    "# noinspection PyPep8Naming\n",
    "def aHS(eta):\n",
    "#    rho = phi*c\n",
    "#    eta = math.pi/6.0 * rho\n",
    "    result= (4.0*eta - 3.0*eta**2)/(1.0-eta)**2\n",
    "    return result\n",
    "\n",
    "# First derivative of aHS with respect to eta\n",
    "def daHS(eta):\n",
    "#    rho = phi*c\n",
    "#    eta = math.pi/6.0 * rho\n",
    "    result =2.0*(2.0-eta)/(1.0-eta)**3\n",
    "    return result\n",
    "\n",
    "\n",
    "# First derivative of aHS with respect to eta\n",
    "def d2aHS(eta):\n",
    "#    rho = phi*c\n",
    "#    eta = math.pi/6.0 * rho\n",
    "    result =(10.0-4.0*eta)/(1-eta)**4\n",
    "    return result\n"
   ]
  },
  {
   "cell_type": "markdown",
   "metadata": {},
   "source": [
    "### First order in $\\beta  = \\frac{1}{k T}$"
   ]
  },
  {
   "cell_type": "code",
   "execution_count": 5,
   "metadata": {},
   "outputs": [],
   "source": [
    "# Free energy perturbation A1\n",
    "def A1(rho, Lambda):\n",
    "    # with b0, b1 and b2 as dictionaries that depend on Lambda,\n",
    "    # the first order perturbation term is\n",
    "    # A1 = b0*rho* + b1*rho*^2 + b2*rho*^3.\n",
    "\n",
    "#    rho = phi*c\n",
    "    result= b0[Lambda] * rho + b1[Lambda] * rho**2 + b2[Lambda] * rho**3\n",
    "    return result\n",
    "\n",
    "# First Derivative of A1 with respect to rho*\n",
    "def dA1(rho, Lambda):\n",
    "#    rho = phi*c\n",
    "    result = b0[Lambda] + 2.0 * b1[Lambda]  * rho + 3.0 * b2[Lambda] * rho**2\n",
    "    return result\n",
    "\n",
    "# Second Derivative of A1 with respect to rho*\n",
    "def d2A1(rho, Lambda):\n",
    "#    rho = phi*c\n",
    "    result =  2.0 * b1[Lambda]  + 6.0 * b2[Lambda] * rho\n",
    "    return result\n"
   ]
  },
  {
   "cell_type": "markdown",
   "metadata": {},
   "source": [
    "### Second order in $\\beta$ "
   ]
  },
  {
   "cell_type": "code",
   "execution_count": 6,
   "metadata": {},
   "outputs": [],
   "source": [
    "# Free energy perturbation A2 \n",
    "def A2(rho, Lambda):\n",
    "#    rho = phi*c\n",
    "    \n",
    "    if abs(Lambda-1.10) <= 0.05:\n",
    "        result= a0 * rho + a1 * rho**2 + a2 * rho**3\n",
    "    else:\n",
    "        #      A[0]         A[1]         A[2]     A[3]\n",
    "        # A2 = g2 rho* exp(-h2 rho*^2) + f2 tanh( c2 rho*)\n",
    "        result=g2[Lambda] * rho * math.exp( -h2[Lambda] * rho**2) + f2[Lambda] * math.tanh(c2[Lambda] * rho)\n",
    "    return result\n",
    "\n",
    "# First derivative of A2 with respect to rho*\n",
    "def dA2(rho, Lambda):\n",
    "#    rho = phi*c\n",
    "\n",
    "    if abs(Lambda-1.10) <= 0.05:\n",
    "        result = a0 + 2.0* a1  * rho + 3.0 * a2 * rho**2\n",
    "    else:\n",
    "        result =(\n",
    "                  g2[Lambda] * math.exp( -(h2[Lambda])*rho**2 )\n",
    "                ) * (1.0- 2.0 * h2[Lambda] * rho**2) + \\\n",
    "                f2[Lambda] * c2[Lambda] /math.cosh(c2[Lambda]*rho)**2\n",
    "    return result\n",
    "\n",
    "# Second derivative of A2 with respect to rho*\n",
    "def d2A2(rho, Lambda):\n",
    "#    rho = phi*c\n",
    "\n",
    "    if abs(Lambda-1.10) <= 0.05:\n",
    "        result = 2.0 * a1  + 6.0 * a2 * rho\n",
    "    else:\n",
    "        result =(\n",
    "                  2.0 * g2[Lambda] *h2[Lambda]* rho * math.exp( -(h2[Lambda])*rho**2 )\n",
    "                ) * (-3.0 + 2.0 * h2[Lambda] * rho**2) - \\\n",
    "                2.0 * c2[Lambda]**2 * f2[Lambda] * math.cosh( c2[Lambda] *rho ) / math.cosh( c2[Lambda]*rho )**2\n",
    "    return result\n",
    "\n",
    "\n"
   ]
  },
  {
   "cell_type": "markdown",
   "metadata": {},
   "source": [
    "### Total free energy a_SW = A_SW/(N k T) "
   ]
  },
  {
   "cell_type": "code",
   "execution_count": 7,
   "metadata": {},
   "outputs": [],
   "source": [
    "def aSW(c,Lambda,T):\n",
    "    rho = phi*c\n",
    "    eta = math.pi/6.0 * rho\n",
    "\n",
    "    result = aHS(eta) + A1(rho,Lambda)/T + A2(rho,Lambda)/T**2\n",
    "    return result"
   ]
  },
  {
   "cell_type": "markdown",
   "metadata": {},
   "source": [
    "## SW chemical potential"
   ]
  },
  {
   "cell_type": "code",
   "execution_count": 8,
   "metadata": {},
   "outputs": [],
   "source": [
    "# Derivative of reduced chemical potential mu_bar, partial mu_bar/partial c:\n",
    "def dmu_bar(c, Lambda, T):\n",
    "\n",
    "    rho = phi*c\n",
    "    eta = math.pi/6.0 * rho\n",
    "\n",
    "    result= T * math.pi/6.0 * ( 2.0 * daHS(eta)       + eta * d2aHS(eta) ) + \\\n",
    "                                 ( 2.0 * dA1(rho,Lambda) + rho * d2A1(rho,Lambda) ) + \\\n",
    "                                 ( 2.0 * dA2(rho,Lambda) + rho * d2A2(rho,Lambda) ) / T\n",
    "    result = mu_bar_0 * result\n",
    "    return result"
   ]
  },
  {
   "cell_type": "markdown",
   "metadata": {},
   "source": [
    "## Growth rates of Fourier modes from Linear Stability Analysis"
   ]
  },
  {
   "cell_type": "markdown",
   "metadata": {},
   "source": [
    "### Fig 1A: Model C"
   ]
  },
  {
   "cell_type": "code",
   "execution_count": 9,
   "metadata": {},
   "outputs": [],
   "source": [
    "# Growth rate associated to NP concentration\n",
    "def sigma1_model_C(k, R):\n",
    "   sigma = - R * k**2\n",
    "   return sigma\n",
    "\n",
    "# Growth rate associated to LC nematization\n",
    "def sigma2_model_C(k, r, c0):\n",
    "    sigma = -c0 -r -k**2\n",
    "    return sigma\n",
    "\n"
   ]
  },
  {
   "cell_type": "code",
   "execution_count": 10,
   "metadata": {},
   "outputs": [
    {
     "data": {
      "text/plain": "<Figure size 432x288 with 1 Axes>",
      "image/png": "[encoded data removed]"
     },
     "metadata": {
      "needs_background": "light"
     },
     "output_type": "display_data"
    }
   ],
   "source": [
    "# Plot of Model C growth rates\n",
    "\n",
    "# Generate list of wavenumbers\n",
    "k_List = np.linspace(0.0, 2.0, 100)\n",
    "\n",
    "# Generate list of zeros to show the x axis\n",
    "zero_list = np.zeros(100)\n",
    "\n",
    "# Evaluate NP-concentration growth rate\n",
    "sigma1 = [sigma1_model_C(k, 1) for k in k_List]\n",
    "\n",
    "# Evaluate LC-nematization growth rate (for nematic and isotropic cases)\n",
    "sigma2_nematic   = [sigma2_model_C(k, -1.0, 0.02 ) for k in k_List]\n",
    "sigma2_isotropic = [sigma2_model_C(k, 1.0, 0.02 ) for k in k_List]\n",
    "\n",
    "# Plot sigma1 as red, sigma2 for isotropic phase as green and for nematic phase as blue.\n",
    "# Color the x axis black\n",
    "plt.plot(k_List, sigma1, 'r')\n",
    "plt.plot(k_List, sigma2_isotropic, 'g')\n",
    "plt.plot(k_List, sigma2_nematic, 'b')\n",
    "plt.plot(k_List, zero_list, 'k--')\n",
    "\n",
    "# Add labels to x and y axes, using LaTeX notation after \"r\"\n",
    "plt.xlabel(r\"$k$\")\n",
    "plt.ylabel(r\"$\\sigma_i$\")\n",
    "\n",
    "plt.show()\n"
   ]
  },
  {
   "cell_type": "markdown",
   "metadata": {},
   "source": [
    "## Fig1B: Square well"
   ]
  },
  {
   "cell_type": "code",
   "execution_count": 11,
   "outputs": [],
   "source": [
    "# Growth rates\n",
    "\n",
    "# Growth rate associated to NP concentration\n",
    "def sigma1_sw(k, c0, Lambda, T, R):\n",
    "   sigma = - R * dmu_bar(c0, Lambda, T) * k**2\n",
    "   return sigma\n",
    "\n",
    "# Growth rate associated to LC nematization\n",
    "def sigma2_sw(k, c0, r):\n",
    "    sigma = -c0 -r -k**2\n",
    "    return sigma\n",
    "\n"
   ],
   "metadata": {
    "collapsed": false,
    "pycharm": {
     "name": "#%%\n"
    }
   }
  },
  {
   "cell_type": "code",
   "execution_count": 12,
   "outputs": [
    {
     "data": {
      "text/plain": "<Figure size 432x288 with 1 Axes>",
      "image/png": "[encoded data removed]"
     },
     "metadata": {
      "needs_background": "light"
     },
     "output_type": "display_data"
    }
   ],
   "source": [
    "# Plot of growth rates\n",
    "c0 = 0.02\n",
    "Lambda = 1.2\n",
    "T = 0.9\n",
    "R  = 1.0\n",
    "\n",
    "# Generate list of wavenumbers\n",
    "k_List = np.linspace(0.0, 2.0, 100)\n",
    "\n",
    "# Generate list of zeros to show the x axis\n",
    "zero_list = np.zeros(100)\n",
    "\n",
    "# Evaluate NP-concentration growth rate\n",
    "sigma1 = [sigma1_sw(k, c0, Lambda, T, R) for k in k_List]\n",
    "\n",
    "# Evaluate LC-nematization growth rate (for nematic and isotropic cases)\n",
    "sigma2_nematic   = [sigma2_model_C(k, c0, -1 ) for k in k_List]\n",
    "sigma2_isotropic = [sigma2_model_C(k,  c0, 1 ) for k in k_List]\n",
    "\n",
    "# Plot sigma1 as red, sigma2 for isotropic phase as green and for nematic phase as blue.\n",
    "# Color the x axis black\n",
    "plt.plot(k_List, sigma1, 'r')\n",
    "plt.plot(k_List, sigma2_isotropic, 'g')\n",
    "plt.plot(k_List, sigma2_nematic, 'b')\n",
    "plt.plot(k_List, zero_list, 'k--')\n",
    "\n",
    "# Add labels to x and y axes, using LaTeX notation after \"r\"\n",
    "plt.xlabel(r\"$k$\")\n",
    "plt.ylabel(r\"$\\sigma_i$\")\n",
    "\n",
    "plt.show()"
   ],
   "metadata": {
    "collapsed": false,
    "pycharm": {
     "name": "#%%\n"
    }
   }
  },
  {
   "cell_type": "code",
   "execution_count": 13,
   "outputs": [
    {
     "data": {
      "text/plain": "<Figure size 432x288 with 1 Axes>",
      "image/png": "[encoded data removed]"
     },
     "metadata": {
      "needs_background": "light"
     },
     "output_type": "display_data"
    }
   ],
   "source": [
    "# Plot of A1  and dA1\n",
    "c0 = 0.02\n",
    "Lambda = 1.5\n",
    "T = 2.5\n",
    "R  = 1.0\n",
    "\n",
    "# Generate 2D array of concentration and temperature\n",
    "\n",
    "c_list = np.linspace(0.0, 0.1, 10)\n",
    "\n",
    "\n",
    "# Generate list of zeros to show the x axis\n",
    "zero_list = np.zeros(10)\n",
    "\n",
    "# Evaluate NP-concentration growth rate\n",
    "dmu_List_11_09 = [dmu_bar(c, 1.1, 0.9) for c in c_list]\n",
    "dmu_List_11_15 = [dmu_bar(c, 1.1, 1.5) for c in c_list]\n",
    "dmu_List_11_25 = [dmu_bar(c, 1.1, 2.5) for c in c_list]\n",
    "\n",
    "\n",
    "dmu_List_12_09 = [dmu_bar(c, 1.2, 0.9) for c in c_list]\n",
    "dmu_List_12_15 = [dmu_bar(c, 1.2, 1.5) for c in c_list]\n",
    "dmu_List_12_25 = [dmu_bar(c, 1.2, 2.5) for c in c_list]\n",
    "\n",
    "dmu_List_13_09 = [dmu_bar(c, 1.3, 0.9) for c in c_list]\n",
    "dmu_List_13_15 = [dmu_bar(c, 1.3, 1.5) for c in c_list]\n",
    "dmu_List_13_25 = [dmu_bar(c, 1.3, 2.5) for c in c_list]\n",
    "\n",
    "\n",
    "\n",
    "# Plot sigma1 as red, sigma2 for isotropic phase as green and for nematic phase as blue.\n",
    "# Color the x axis black\n",
    "plt.plot(c_list, zero_list, 'k')\n",
    "\n",
    "plt.plot(c_list, dmu_List_11_09, 'r')\n",
    "plt.plot(c_list, dmu_List_11_15, 'r--')\n",
    "plt.plot(c_list, dmu_List_11_25, 'r-.')\n",
    "\n",
    "plt.plot(c_list, dmu_List_12_09, 'g')\n",
    "plt.plot(c_list, dmu_List_12_15, 'g--')\n",
    "plt.plot(c_list, dmu_List_12_25, 'g-.')\n",
    "\n",
    "plt.plot(c_list, dmu_List_13_09, 'b')\n",
    "plt.plot(c_list, dmu_List_13_15, 'b--')\n",
    "plt.plot(c_list, dmu_List_13_25, 'b-.')\n",
    "\n",
    "\n",
    "# Add labels to x and y axes, using LaTeX notation after \"r\"\n",
    "plt.xlabel(r\"$k$\")\n",
    "plt.ylabel(r\"$\\mu'$\")\n",
    "\n",
    "plt.show()\n",
    "\n"
   ],
   "metadata": {
    "collapsed": false,
    "pycharm": {
     "name": "#%%\n"
    }
   }
  }
 ],
 "metadata": {
  "kernelspec": {
   "display_name": "Python 3 (ipykernel)",
   "language": "python",
   "name": "python3"
  },
  "language_info": {
   "codemirror_mode": {
    "name": "ipython",
    "version": 3
   },
   "file_extension": ".py",
   "mimetype": "text/x-python",
   "name": "python",
   "nbconvert_exporter": "python",
   "pygments_lexer": "ipython3",
   "version": "3.7.4"
  }
 },
 "nbformat": 4,
 "nbformat_minor": 4
}