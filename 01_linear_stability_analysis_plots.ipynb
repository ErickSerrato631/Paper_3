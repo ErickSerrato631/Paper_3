{
 "cells": [
  {
   "cell_type": "markdown",
   "metadata": {},
   "source": [
    "# Paper 3 (Linear stability analysis plots)\n",
    "2022-03-17 Version 0.1"
   ]
  },
  {
   "cell_type": "code",
   "execution_count": 4,
   "metadata": {},
   "outputs": [],
   "source": [
    "# Load packages\n",
    "import numpy as np\n",
    "import matplotlib.pyplot as plt\n",
    "import time\n",
    "import os\n",
    "import math"
   ]
  },
  {
   "cell_type": "markdown",
   "metadata": {},
   "source": [
    "## Square well free energy"
   ]
  },
  {
   "cell_type": "code",
   "execution_count": 5,
   "metadata": {},
   "outputs": [],
   "source": [
    "# Define the fixed concentration scale phi = r_0/alpha,\n",
    "# so that rho = (N/V) sigma^3 is given as rho = phi * c.\n",
    "\n",
    "# Parameter phi = r_0/alpha = 8.0/7.0 approximately, according\n",
    "# to the Paper 2 analysis of the decrease of the clearing point temperature\n",
    "# with increasing nanoparticle volume fraction.\n",
    "\n",
    "phi = 8.0/7.0\n",
    "\n",
    "# Define parameters for the SW free energy, at selected values of lambda, \n",
    "# as given by Sastre et al. https://doi.org/10.1080/00268976.2017.1392051\n",
    "\n",
    "# Matrix B collects constants for lambda >= 1.1, where\n",
    "# A1 = b0 rho* + b1 rho*^2 + b2 rho*^3.\n",
    "#    b0,     b1,       b2           lambda\n",
    "#B=np.array(\n",
    "#  [[-0.74484,-0.382173,-1.63313],   # 1.1\n",
    "#   [-1.51817,-1.58568, -1.40168],    # 1.2\n",
    "#   [-2.40494,-3.04343, -1.16285],    # 1.3\n",
    "#   [-3.46854,-4.36238,  1.46006],     # 1.4\n",
    "#   [-4.74229,-5.34853,  3.10155],     # 1.5\n",
    "#   [-6.24987,-5.88535,  4.48369],     # 1.6\n",
    "#   [-8.01193,-5.8906,   5.34814],      # 1.7\n",
    "#   [-10.0523,-5.27555,  5.38749]] )    # 1.8\n",
    "\n",
    "b0 = {\n",
    "    1.1:   -0.74484,\n",
    "    1.2:   -1.51817,\n",
    "    1.3:   -2.40494,\n",
    "    1.4:   -3.46854,\n",
    "    1.5:   -4.74229,\n",
    "    1.6:   -6.24987,\n",
    "    1.7:   -8.01193,\n",
    "    1.8:   -10.0523\n",
    "}\n",
    "\n",
    "b1 = {\n",
    "    1.1:   -0.382173,\n",
    "    1.2:   -1.58568,\n",
    "    1.3:   -3.04343,\n",
    "    1.4:   -4.36238,\n",
    "    1.5:   -5.34853,\n",
    "    1.6:   -5.88535,\n",
    "    1.7:   -5.8906,\n",
    "    1.8:   -5.27555\n",
    "}\n",
    "\n",
    "b2 = {\n",
    "    1.1:    -1.63313,\n",
    "    1.2:    -1.40168,\n",
    "    1.3:    -1.16285,\n",
    "    1.4:     1.46006,\n",
    "    1.5:     3.10155,\n",
    "    1.6:     4.48369,\n",
    "    1.7:     5.34814,\n",
    "    1.8:     5.38749\n",
    "}"
   ]
  },
  {
   "cell_type": "code",
   "execution_count": 6,
   "metadata": {
    "pycharm": {
     "name": "#%%\n"
    }
   },
   "outputs": [],
   "source": [
    "# For lambda = 1.1, A2 = a0 rho* + a1 rho*^2 + a2 rho*^3\n",
    "a0=-0.315714\n",
    "a1=-0.405783\n",
    "a2=0.4394\n",
    "\n",
    "# Matrix A collects constants for cases lambda> 1.1, \n",
    "# when A2 = g2 rho* exp(-h2 rho*^2) + f2 tanh( c2 rho*)  \n",
    "#  g2,        h2,     f2,        c2\n",
    "#A=np.array( [[0,0,0,0],\n",
    "#   [-0.754123,1.54113, 0       , 0     ],    # lambda = 1.20\n",
    "#   [-0.400299,4.81518,-0.221092,3.42486],    # lambda = 1.30\n",
    "#   [-0.311957,9.62637,-0.275382,4.80383],    # lambda = 1.40\n",
    "#   [-0.301985,12.7563,-0.305239,6.10676],    # lambda = 1.50\n",
    "#   [-0.242938,10.8684,-0.333435,7.67705],    # lambda = 1.60\n",
    "#   [-0.310091,16.5368,-0.376464,8.31355],    # lambda = 1.70\n",
    "#   [ 0.385677,1.98941,-0.539128,8.40071]])   # lambda = 1.80, WARNING g2 was (-) in Ref.\n",
    "\n",
    "\n",
    "g2 = {\n",
    "    1.2:    -0.754123,\n",
    "    1.3:    -0.400299,\n",
    "    1.4:    -0.311957,\n",
    "    1.5:    -0.301985,\n",
    "    1.6:    -0.242938,\n",
    "    1.7:    -0.310091,\n",
    "    1.8:     0.385677    # WARNING g2 was incorrectly given as negative for lambda = 1.80 in\n",
    "                         # Sastre et al. https://doi.org/10.1080/00268976.2017.1392051\n",
    "}\n",
    "\n",
    "h2 = {\n",
    "    1.2:    1.54113,\n",
    "    1.3:    4.81518,\n",
    "    1.4:    9.62637,\n",
    "    1.5:    12.7563,\n",
    "    1.6:    10.8684,\n",
    "    1.7:    16.5368,\n",
    "    1.8:    1.98941,\n",
    "}\n",
    "\n",
    "f2 = {\n",
    "    1.2:     0.000000,\n",
    "    1.3:    -0.221092,\n",
    "    1.4:    -0.275382,\n",
    "    1.5:    -0.305239,\n",
    "    1.6:    -0.333435,\n",
    "    1.7:    -0.376464,\n",
    "    1.8:    -0.539128,\n",
    "}\n",
    "\n",
    "c2 = {\n",
    "    1.2:   0.00000,\n",
    "    1.3:   3.42486,\n",
    "    1.4:   4.80383,\n",
    "    1.5:   6.10676,\n",
    "    1.6:   7.67705,\n",
    "    1.7:   8.31355,\n",
    "    1.8:   8.40071\n",
    "}"
   ]
  },
  {
   "cell_type": "markdown",
   "metadata": {},
   "source": [
    "### Hard sphere aHS"
   ]
  },
  {
   "cell_type": "code",
   "execution_count": 7,
   "metadata": {},
   "outputs": [],
   "source": [
    "# We use _c_ as our scaled concentration variable, with  rho* = phi c.\n",
    "def aHS(c):\n",
    "    rho = phi*c\n",
    "    eta = math.pi/6.0 * rho\n",
    "    result= (4*eta - 3*eta**2)/(1-eta)**2\n",
    "    return result\n",
    "\n",
    "# derivative of aHS with respect to eta\n",
    "def daHS(c):\n",
    "    rho = phi*c\n",
    "    eta = math.pi/6.0 * rho\n",
    "    result =(2*(-eta+ 2))/(1-eta)**3\n",
    "    return result"
   ]
  },
  {
   "cell_type": "markdown",
   "metadata": {},
   "source": [
    "### First order in $\\beta  = \\frac{1}{k T}$"
   ]
  },
  {
   "cell_type": "code",
   "execution_count": 8,
   "metadata": {},
   "outputs": [],
   "source": [
    "# Free energy perturbation A1\n",
    "def A1(c, Lambda):\n",
    "    # with b0, b1 and b2 as dictionaries that depend on Lambda,\n",
    "    # the first order perturbation term is\n",
    "    # A1 = b0*rho* + b1*rho*^2 + b2*rho*^3.\n",
    "\n",
    "    rho = phi*c\n",
    "    result= b0[Lambda] * rho + b1[Lambda] * rho**2 + b2[Lambda] * rho**3\n",
    "    return result\n",
    "\n",
    "# Derivative of A1 with respect to rho*\n",
    "def dA1(c, Lambda):\n",
    "    rho = phi*c\n",
    "    result = b0[Lambda] + 2.0 * b1[Lambda]  * rho + 3.0 * b2[Lambda] * rho**2\n",
    "    return result"
   ]
  },
  {
   "cell_type": "markdown",
   "metadata": {},
   "source": [
    "### Second order in $\\beta$ "
   ]
  },
  {
   "cell_type": "code",
   "execution_count": 9,
   "metadata": {},
   "outputs": [],
   "source": [
    "# Free energy perturbation A2 \n",
    "def A2(c, Lambda):\n",
    "    rho = phi*c    \n",
    "    \n",
    "    if abs(Lambda-1.10) <= 0.05:\n",
    "        result= a0*rho + a1*rho**2 + a2*rho**3\n",
    "    else:\n",
    "        #      A[0]         A[1]         A[2]     A[3]\n",
    "        # A2 = g2 rho* exp(-h2 rho*^2) + f2 tanh( c2 rho*)\n",
    "        result=g2[Lambda] * rho * math.exp( -h2[Lambda] * rho**2) + f2[Lambda] * math.tanh(c2[Lambda] * rho)\n",
    "    return result\n",
    "\n",
    "# Derivative of A2 with respect to rho*\n",
    "def dA2(c, Lambda):\n",
    "    rho = phi*c\n",
    "\n",
    "    if abs(Lambda-1.10) <= 0.05:\n",
    "        result = a0 + 2.0* a1 * rho + 3.0 * a2 * rho**2\n",
    "    else:\n",
    "        result =(\n",
    "                  g2[Lambda] * math.exp( -(h2[Lambda])*rho**2 )\n",
    "                ) * (1.0- 2.0 * h2[Lambda] * rho**2) + \\\n",
    "                f2[Lambda] * c2[Lambda] /math.cosh(c2[Lambda]*rho)**2\n",
    "    return result"
   ]
  },
  {
   "cell_type": "markdown",
   "metadata": {},
   "source": [
    "### Total free energy a_SW = A_SW/(N k T) "
   ]
  },
  {
   "cell_type": "code",
   "execution_count": 10,
   "metadata": {},
   "outputs": [],
   "source": [
    "def aSW(c,Lambda,T):\n",
    "    result = aHS(c) + A1(c,Lambda)/T + A2(c,Lambda)/T**2\n",
    "    return result"
   ]
  },
  {
   "cell_type": "markdown",
   "metadata": {},
   "source": [
    "## SW chemical potential"
   ]
  },
  {
   "cell_type": "code",
   "execution_count": 11,
   "metadata": {},
   "outputs": [],
   "source": [
    "###############################################\n",
    "# RESTART FIXING CODE HERE!!!!\n",
    "###############################################\n",
    "\n",
    "# Reduced chemical potential mu* = mu/mu_HS \n",
    "def mustar(c, Lambda, T):\n",
    "    rho = phi*c\n",
    "    resultado= (3/(4*math.pi))*((aSW(c,Lambda,T)/rho) + (math.pi/6)*daHS(c) + dA1(c,Lambda)/T + dA2(c,Lambda)/T**2)\n",
    "    return resultado"
   ]
  },
  {
   "cell_type": "markdown",
   "metadata": {},
   "source": [
    "## Growth rates of Fourier modes from Linear Stability Analysis"
   ]
  },
  {
   "cell_type": "markdown",
   "metadata": {},
   "source": [
    "### Fig 1A: Modelo C"
   ]
  },
  {
   "cell_type": "code",
   "execution_count": 12,
   "metadata": {},
   "outputs": [],
   "source": [
    "# Growth rates \n",
    "def sigma1_model_C(k, R): \n",
    "   sigma = - R * k**2 \n",
    "   return(sigma)\n",
    "\n",
    "def sigma2_model_C(k, r, c0):\n",
    "    sigma = -c0 -r/abs(r) -k**2\n",
    "    return(sigma)\n",
    "\n",
    "vect_sigma1_model_C =  np.vectorize(sigma1_model_C)\n",
    "\n",
    "vect_sigma2_model_C =  np.vectorize(sigma2_model_C)\n"
   ]
  },
  {
   "cell_type": "code",
   "execution_count": 13,
   "metadata": {},
   "outputs": [
    {
     "data": {
      "text/plain": "<Figure size 432x288 with 1 Axes>",
      "image/png": "[encoded data removed]"
     },
     "metadata": {
      "needs_background": "light"
     },
     "output_type": "display_data"
    }
   ],
   "source": [
    "# Plot of growth rates\n",
    "\n",
    "k_List = np.linspace(0.0, 2.0, 100)\n",
    "zero_list = np.zeros(100)\n",
    "sigma1 = vect_sigma1_model_C(k_List, 1)\n",
    "sigma2_nematic    = vect_sigma2_model_C(k_List, -1, 0.01 )\n",
    "sigma2_isotropic = vect_sigma2_model_C(k_List, 1, 0.01 )\n",
    "\n",
    "plt.plot(k_List, sigma1, 'r')\n",
    "plt.plot(k_List, sigma2_isotropic, 'g')\n",
    "plt.plot(k_List, sigma2_nematic, 'b')\n",
    "plt.plot(k_List, zero_list, 'k--')\n",
    "\n",
    "plt.xlabel(r\"$k$\")\n",
    "plt.ylabel(r\"$\\sigma_i$\")\n",
    "\n",
    "plt.show()\n"
   ]
  },
  {
   "cell_type": "markdown",
   "metadata": {},
   "source": [
    "## Fig1B: Square well"
   ]
  },
  {
   "cell_type": "code",
   "execution_count": 14,
   "outputs": [],
   "source": [
    "# Growth rates\n",
    "def m0(rho0):\n",
    "    value = (5.0/6.0) * np.pi**2 * rho0 + (4.0/3.0)* np.pi\n",
    "    return(value)\n",
    "\n",
    "def m1(T, rho0, lambda_integer):\n",
    "    if(lambda_integer > 1):\n",
    "        value = 2.0 * (b0 + (c2*f2 + g2)/T + 3.0 * b1 * rho0)\n",
    "    else:\n",
    "        value = 2.0 * (b0 + (a0 + 3.0 * a1*rho0)/T + 3.0 * b1 * rho0)\n",
    "    return(value)\n",
    "\n",
    "def omega(T, rho0, lambda_integer, sigma_SW):\n",
    "    value = T *sigma_SW *( m0(rho0) + m1(T, rho0, lambda_integer)/T )\n",
    "    return(value)\n",
    "\n",
    "def R(T, rho0, lambda_integer, sigma_SW):\n",
    "    gamma_rho = 1.0\n",
    "    gamma_s   = 1.0\n",
    "    kappa     = 1.0\n",
    "\n",
    "    value = gamma_rho * omega(T, rho0, lambda_integer, sigma_SW)/ (gamma_s * kappa)\n",
    "    return(value)\n",
    "\n",
    "\n",
    "def sigma1_SW(k, T, rho0, lambda_integer, sigma_SW):\n",
    "   sigma = - R(T, rho0, lambda_integer, sigma_SW) * k**2\n",
    "   return(sigma)\n",
    "\n",
    "def sigma2_SW(k, r, c0):\n",
    "    sigma = -c0 -r/abs(r) -k**2\n",
    "    return(sigma)\n",
    "\n",
    "vect_sigma1_model_C =  np.vectorize(sigma1_model_C)\n",
    "\n",
    "vect_sigma2_model_C =  np.vectorize(sigma2_model_C)\n"
   ],
   "metadata": {
    "collapsed": false,
    "pycharm": {
     "name": "#%%\n"
    }
   }
  },
  {
   "cell_type": "code",
   "execution_count": 15,
   "outputs": [
    {
     "data": {
      "text/plain": "<Figure size 432x288 with 1 Axes>",
      "image/png": "[encoded data removed]"
     },
     "metadata": {
      "needs_background": "light"
     },
     "output_type": "display_data"
    }
   ],
   "source": [
    "# Plot of growth rates\n",
    "\n",
    "k_List = np.linspace(0.0, 2.0, 100)\n",
    "zero_list = np.zeros(100)\n",
    "sigma1 = vect_sigma1_model_C(k_List, 1)\n",
    "sigma2_nematic    = vect_sigma2_model_C(k_List, -1, 0.01 )\n",
    "sigma2_isotropic = vect_sigma2_model_C(k_List, 1, 0.01 )\n",
    "\n",
    "plt.plot(k_List, sigma1, 'r')\n",
    "plt.plot(k_List, sigma2_isotropic, 'g')\n",
    "plt.plot(k_List, sigma2_nematic, 'b')\n",
    "plt.plot(k_List, zero_list, 'k--')\n",
    "\n",
    "plt.xlabel(r\"$k$\")\n",
    "plt.ylabel(r\"$\\sigma_i$\")\n",
    "\n",
    "plt.show()"
   ],
   "metadata": {
    "collapsed": false,
    "pycharm": {
     "name": "#%%\n"
    }
   }
  }
 ],
 "metadata": {
  "kernelspec": {
   "display_name": "Python 3 (ipykernel)",
   "language": "python",
   "name": "python3"
  },
  "language_info": {
   "codemirror_mode": {
    "name": "ipython",
    "version": 3
   },
   "file_extension": ".py",
   "mimetype": "text/x-python",
   "name": "python",
   "nbconvert_exporter": "python",
   "pygments_lexer": "ipython3",
   "version": "3.7.4"
  }
 },
 "nbformat": 4,
 "nbformat_minor": 4
}