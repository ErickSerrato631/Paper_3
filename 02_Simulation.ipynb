{
 "cells": [
  {
   "cell_type": "markdown",
   "metadata": {
    "pycharm": {
     "name": "#%% md\n"
    }
   },
   "source": []
  },
  {
   "cell_type": "markdown",
   "source": [
    "# Dynamics of a mixture of mesogens and SW nanoparticles"
   ],
   "metadata": {
    "collapsed": false,
    "pycharm": {
     "name": "#%% md\n"
    }
   }
  },
  {
   "cell_type": "markdown",
   "source": [
    "2022-06-21 v 0.1 Code for SW free energy and derivatives from 01_LSA_plots.ipynb"
   ],
   "metadata": {
    "collapsed": false,
    "pycharm": {
     "name": "#%% md\n"
    }
   }
  },
  {
   "cell_type": "code",
   "execution_count": 65,
   "metadata": {
    "pycharm": {
     "name": "#%%\n"
    }
   },
   "outputs": [],
   "source": [
    "# Load packages\n",
    "import numpy as np\n",
    "import matplotlib.pyplot as plt\n",
    "import math\n",
    "import time\n",
    "import os"
   ]
  },
  {
   "cell_type": "markdown",
   "metadata": {
    "pycharm": {
     "name": "#%% md\n"
    }
   },
   "source": [
    "## Simulation parameters\n"
   ]
  },
  {
   "cell_type": "code",
   "execution_count": 66,
   "outputs": [],
   "source": [
    "sw_lambda=1.1     # SW range\n",
    "T= 1.5            # reduced temperature \"T star\", T* = (k T)/epsilon\n",
    "tau = -0.5        # tau = T/T_IN -1; negative values imply that the nematic phase is stable.\n",
    "\n",
    "\n",
    "# Initial conditions\n",
    "n_wavelengths = 2 # n_wavelengths es el número de longitudes de onda que caben en la caja, use only powers of two\n",
    "\n",
    "c0= 0.050\n",
    "s0= 0.001\n",
    "Ampl = 0.001 # Ampl es la amplitud de la perturbación\n",
    "\n",
    "\n",
    "# Time steps\n",
    "nTimeSteps   =  1000  # total number of time steps to run\n",
    "print_period =  100  # number of time steps between program printouts\n",
    "\n",
    "\n",
    "# Parameters for the scaled dynamical equations\n",
    "R = 10.0      # Reduced diffusivity, R\n",
    "alphap=0.05  # Reduced coupling parameter, alpha'\n",
    "\n",
    "# Finite differences grid parameters\n",
    "L = 256    # Physical spatial size\n",
    "N = L+2   # Augmented grid size with two extra points for PBC buffers\n",
    "nb = 1    # numero de bloques (quizás nb por notebook), el número de veces que se repite una iteración\n",
    "dx = 1.0      # pixel size\n",
    "dt = 0.01     # time step\n",
    "\n",
    "T_total = nTimeSteps*dt  # Total simulation time\n",
    "\n",
    "# Euler-Maruyama parameters: mean and standard deviation of noise term\n",
    "mu_mean, sigma_stdev = 0, 0.0001\n",
    "\n",
    "# Fixed concentration scale phi = r_0/alpha,\n",
    "# so that rho = (N/V) sigma^3 is given as rho = phi * c.\n",
    "\n",
    "# Parameter phi =  8.0/7.0 approximately, according\n",
    "# to the Paper 2 analysis of the decrease of the clearing point temperature\n",
    "# with increasing nanoparticle volume fraction.\n",
    "\n",
    "phi = 8.0/7.0\n",
    "\n",
    "# Parameter mu_bar_0 = epsilon/(sigma**3 * alpha)\n",
    "mu_bar_0 = 0.1  # Wild guess at the ratio of SW molecular density energy to NP+LC coupling parameter"
   ],
   "metadata": {
    "collapsed": false,
    "pycharm": {
     "name": "#%%\n"
    }
   }
  },
  {
   "cell_type": "markdown",
   "source": [
    "## Square well free energy parameters"
   ],
   "metadata": {
    "collapsed": false,
    "pycharm": {
     "name": "#%% md\n"
    }
   }
  },
  {
   "cell_type": "code",
   "execution_count": 67,
   "outputs": [],
   "source": [
    "# Define parameters for the SW free energy, at selected values of lambda, \n",
    "# as given by Sastre et al. https://doi.org/10.1080/00268976.2017.1392051\n",
    "\n",
    "b0 = {\n",
    "    1.1:   -0.74484,\n",
    "    1.2:   -1.51817,\n",
    "    1.3:   -2.40494,\n",
    "    1.4:   -3.46854,\n",
    "    1.5:   -4.74229,\n",
    "    1.6:   -6.24987,\n",
    "    1.7:   -8.01193,\n",
    "    1.8:   -10.0523\n",
    "}\n",
    "\n",
    "b1 = {\n",
    "    1.1:   -0.382173,\n",
    "    1.2:   -1.58568,\n",
    "    1.3:   -3.04343,\n",
    "    1.4:   -4.36238,\n",
    "    1.5:   -5.34853,\n",
    "    1.6:   -5.88535,\n",
    "    1.7:   -5.8906,\n",
    "    1.8:   -5.27555\n",
    "}\n",
    "\n",
    "b2 = {\n",
    "    1.1:    -1.63313,\n",
    "    1.2:    -1.40168,\n",
    "    1.3:    -1.16285,\n",
    "    1.4:     1.46006,\n",
    "    1.5:     3.10155,\n",
    "    1.6:     4.48369,\n",
    "    1.7:     5.34814,\n",
    "    1.8:     5.38749\n",
    "}"
   ],
   "metadata": {
    "collapsed": false,
    "pycharm": {
     "name": "#%%\n"
    }
   }
  },
  {
   "cell_type": "code",
   "execution_count": 68,
   "metadata": {
    "pycharm": {
     "name": "#%%\n"
    }
   },
   "outputs": [],
   "source": [
    "# For lambda = 1.1, A2 = a0 rho* + a1 rho*^2 + a2 rho*^3\n",
    "a0=-0.315714\n",
    "a1=-0.405783\n",
    "a2=0.4394\n",
    "\n",
    "# Matrix A collects constants for cases lambda> 1.1, \n",
    "# when A2 = g2 rho* exp(-h2 rho*^2) + f2 tanh( c2 rho*)  \n",
    "#  g2,        h2,     f2,        c2\n",
    "#A=np.array( [[0,0,0,0],\n",
    "#   [-0.754123,1.54113, 0       , 0     ],    # lambda = 1.20\n",
    "#   [-0.400299,4.81518,-0.221092,3.42486],    # lambda = 1.30\n",
    "#   [-0.311957,9.62637,-0.275382,4.80383],    # lambda = 1.40\n",
    "#   [-0.301985,12.7563,-0.305239,6.10676],    # lambda = 1.50\n",
    "#   [-0.242938,10.8684,-0.333435,7.67705],    # lambda = 1.60\n",
    "#   [-0.310091,16.5368,-0.376464,8.31355],    # lambda = 1.70\n",
    "#   [ 0.385677,1.98941,-0.539128,8.40071]])   # lambda = 1.80, WARNING g2 was (-) in Ref.\n",
    "\n",
    "\n",
    "g2 = {\n",
    "    1.2:    -0.754123,\n",
    "    1.3:    -0.400299,\n",
    "    1.4:    -0.311957,\n",
    "    1.5:    -0.301985,\n",
    "    1.6:    -0.242938,\n",
    "    1.7:    -0.310091,\n",
    "    1.8:     0.385677    # WARNING g2 was incorrectly given as negative for lambda = 1.80 in\n",
    "                         # Sastre et al. https://doi.org/10.1080/00268976.2017.1392051\n",
    "}\n",
    "\n",
    "h2 = {\n",
    "    1.2:    1.54113,\n",
    "    1.3:    4.81518,\n",
    "    1.4:    9.62637,\n",
    "    1.5:    12.7563,\n",
    "    1.6:    10.8684,\n",
    "    1.7:    16.5368,\n",
    "    1.8:    1.98941,\n",
    "}\n",
    "\n",
    "f2 = {\n",
    "    1.2:     0.000000,\n",
    "    1.3:    -0.221092,\n",
    "    1.4:    -0.275382,\n",
    "    1.5:    -0.305239,\n",
    "    1.6:    -0.333435,\n",
    "    1.7:    -0.376464,\n",
    "    1.8:    -0.539128,\n",
    "}\n",
    "\n",
    "c2 = {\n",
    "    1.2:   0.00000,\n",
    "    1.3:   3.42486,\n",
    "    1.4:   4.80383,\n",
    "    1.5:   6.10676,\n",
    "    1.6:   7.67705,\n",
    "    1.7:   8.31355,\n",
    "    1.8:   8.40071\n",
    "}"
   ]
  },
  {
   "cell_type": "markdown",
   "metadata": {
    "pycharm": {
     "name": "#%% md\n"
    }
   },
   "source": [
    "### Hard sphere aHS"
   ]
  },
  {
   "cell_type": "code",
   "execution_count": 69,
   "metadata": {
    "pycharm": {
     "name": "#%%\n"
    }
   },
   "outputs": [],
   "source": [
    "# We use _c_ as our scaled concentration variable, with  rho* = phi c.\n",
    "# noinspection PyPep8Naming\n",
    "def aHS(eta):\n",
    "#    rho = phi*c\n",
    "#    eta = math.pi/6.0 * rho\n",
    "    result= (4.0*eta - 3.0*eta**2)/(1.0-eta)**2\n",
    "    return result\n",
    "\n",
    "# First derivative of aHS with respect to eta\n",
    "def daHS(eta):\n",
    "#    rho = phi*c\n",
    "#    eta = math.pi/6.0 * rho\n",
    "    result =2.0*(2.0-eta)/(1.0-eta)**3\n",
    "    return result\n",
    "\n",
    "\n",
    "# First derivative of aHS with respect to eta\n",
    "def d2aHS(eta):\n",
    "#    rho = phi*c\n",
    "#    eta = math.pi/6.0 * rho\n",
    "    result =(10.0-4.0*eta)/(1-eta)**4\n",
    "    return result\n"
   ]
  },
  {
   "cell_type": "markdown",
   "metadata": {
    "pycharm": {
     "name": "#%% md\n"
    }
   },
   "source": [
    "### First order in $\\beta  = \\frac{1}{k T}$"
   ]
  },
  {
   "cell_type": "code",
   "execution_count": 70,
   "metadata": {
    "pycharm": {
     "name": "#%%\n"
    }
   },
   "outputs": [],
   "source": [
    "# Free energy perturbation A1\n",
    "def A1(rho, Lambda):\n",
    "    # with b0, b1 and b2 as dictionaries that depend on Lambda,\n",
    "    # the first order perturbation term is\n",
    "    # A1 = b0*rho* + b1*rho*^2 + b2*rho*^3.\n",
    "\n",
    "#    rho = phi*c\n",
    "    result= b0[Lambda] * rho + b1[Lambda] * rho**2 + b2[Lambda] * rho**3\n",
    "    return result\n",
    "\n",
    "# First Derivative of A1 with respect to rho*\n",
    "def dA1(rho, Lambda):\n",
    "#    rho = phi*c\n",
    "    result = b0[Lambda] + 2.0 * b1[Lambda]  * rho + 3.0 * b2[Lambda] * rho**2\n",
    "    return result\n",
    "\n",
    "# Second Derivative of A1 with respect to rho*\n",
    "def d2A1(rho, Lambda):\n",
    "#    rho = phi*c\n",
    "    result =  2.0 * b1[Lambda]  + 6.0 * b2[Lambda] * rho\n",
    "    return result\n"
   ]
  },
  {
   "cell_type": "markdown",
   "metadata": {
    "pycharm": {
     "name": "#%% md\n"
    }
   },
   "source": [
    "### Second order in $\\beta$ "
   ]
  },
  {
   "cell_type": "code",
   "execution_count": 71,
   "metadata": {
    "pycharm": {
     "name": "#%%\n"
    }
   },
   "outputs": [],
   "source": [
    "# Free energy perturbation A2 \n",
    "def A2(rho, Lambda):\n",
    "#    rho = phi*c\n",
    "    \n",
    "    if abs(Lambda-1.10) <= 0.05:\n",
    "        result= a0 * rho + a1 * rho**2 + a2 * rho**3\n",
    "    else:\n",
    "        #      A[0]         A[1]         A[2]     A[3]\n",
    "        # A2 = g2 rho* exp(-h2 rho*^2) + f2 tanh( c2 rho*)\n",
    "        result=g2[Lambda] * rho * math.exp( -h2[Lambda] * rho**2) + f2[Lambda] * math.tanh(c2[Lambda] * rho)\n",
    "    return result\n",
    "\n",
    "# First derivative of A2 with respect to rho*\n",
    "def dA2(rho, Lambda):\n",
    "#    rho = phi*c\n",
    "\n",
    "    if abs(Lambda-1.10) <= 0.05:\n",
    "        result = a0 + 2.0* a1  * rho + 3.0 * a2 * rho**2\n",
    "    else:\n",
    "        result =(\n",
    "                  g2[Lambda] * math.exp( -(h2[Lambda])*rho**2 )\n",
    "                ) * (1.0- 2.0 * h2[Lambda] * rho**2) + \\\n",
    "                f2[Lambda] * c2[Lambda] /math.cosh(c2[Lambda]*rho)**2\n",
    "    return result\n",
    "\n",
    "# Second derivative of A2 with respect to rho*\n",
    "def d2A2(rho, Lambda):\n",
    "#    rho = phi*c\n",
    "\n",
    "    if abs(Lambda-1.10) <= 0.05:\n",
    "        result = 2.0 * a1  + 6.0 * a2 * rho\n",
    "    else:\n",
    "        result =(\n",
    "                  2.0 * g2[Lambda] *h2[Lambda]* rho * math.exp( -(h2[Lambda])*rho**2 )\n",
    "                ) * (-3.0 + 2.0 * h2[Lambda] * rho**2) - \\\n",
    "                2.0 * c2[Lambda]**2 * f2[Lambda] * math.cosh( c2[Lambda] *rho ) / math.cosh( c2[Lambda]*rho )**2\n",
    "    return result\n",
    "\n",
    "\n"
   ]
  },
  {
   "cell_type": "markdown",
   "metadata": {
    "pycharm": {
     "name": "#%% md\n"
    }
   },
   "source": [
    "### Total free energy a_SW = A_SW/(N k T) "
   ]
  },
  {
   "cell_type": "code",
   "execution_count": 72,
   "metadata": {
    "pycharm": {
     "name": "#%%\n"
    }
   },
   "outputs": [],
   "source": [
    "def aSW(c,Lambda,T):\n",
    "    rho = phi*c\n",
    "    eta = math.pi/6.0 * rho\n",
    "\n",
    "    result = aHS(eta) + A1(rho,Lambda)/T + A2(rho,Lambda)/T**2\n",
    "    return result"
   ]
  },
  {
   "cell_type": "markdown",
   "metadata": {
    "pycharm": {
     "name": "#%% md\n"
    }
   },
   "source": [
    "## SW chemical potential"
   ]
  },
  {
   "cell_type": "code",
   "execution_count": 73,
   "metadata": {
    "pycharm": {
     "name": "#%%\n"
    }
   },
   "outputs": [],
   "source": [
    "# Reduced chemical potential mu_bar:\n",
    "def mu_bar(c, Lambda, T):\n",
    "\n",
    "    rho = phi*c\n",
    "    eta = math.pi/6.0 * rho\n",
    "\n",
    "    result=                 ( aHS(eta)  + eta * daHS(eta)            ) + \\\n",
    "                  (1.0/T) * ( A1(rho,Lambda) + rho * dA1(rho,Lambda) ) + \\\n",
    "               (1.0/T**2) * ( A2(rho,Lambda) + rho * dA2(rho,Lambda) )\n",
    "\n",
    "    result = mu_bar_0 * T * result\n",
    "    return result\n",
    "\n",
    "\n",
    "# Derivative of reduced chemical potential mu_bar, partial mu_bar/partial c:\n",
    "def dmu_bar(c, Lambda, T):\n",
    "\n",
    "    rho = phi*c\n",
    "    eta = math.pi/6.0 * rho\n",
    "\n",
    "    result= T * math.pi/6.0 * ( 2.0 * daHS(eta)       + eta * d2aHS(eta) ) + \\\n",
    "                                 ( 2.0 * dA1(rho,Lambda) + rho * d2A1(rho,Lambda) ) + \\\n",
    "                                 ( 2.0 * dA2(rho,Lambda) + rho * d2A2(rho,Lambda) ) / T\n",
    "    result = mu_bar_0 * result\n",
    "    return result\n",
    "\n",
    "\n",
    "\n"
   ]
  },
  {
   "cell_type": "markdown",
   "source": [
    "## Finite difference operations"
   ],
   "metadata": {
    "collapsed": false,
    "pycharm": {
     "name": "#%% md\n"
    }
   }
  },
  {
   "cell_type": "code",
   "execution_count": 74,
   "outputs": [],
   "source": [
    "# Laplacian operator in 2D using finite differences.\n",
    "def laplacian2D(Z):\n",
    "\n",
    "    # center slice with no periodic boundary condition buffer rows and columns\n",
    "    center  = Z[1:-1, 1:-1]\n",
    "\n",
    "    #west, east, north and south slices, with same size as center\n",
    "    w   = Z[0:-2, 1:-1]\n",
    "    e   = Z[2:  , 1:-1]\n",
    "    n   = Z[1:-1, 2:  ]\n",
    "    s   = Z[1:-1, 0:-2]\n",
    "\n",
    "\n",
    "    #north-west, north east, south-east, and south-west slices, with same size as center\n",
    "    nw  = Z[0:-2, 2:  ]\n",
    "    ne  = Z[2:  , 2:  ]\n",
    "    se  = Z[2:, 0:-2]\n",
    "    sw  = Z[0:-2, 0:-2]\n",
    "\n",
    "    # Weights for the different contributions to the laplacian\n",
    "    dif2 = (w+e+n+s)/6.0 + (ne+nw+se+sw)/12.0\n",
    "    dif2 = dif2 - center\n",
    "\n",
    "    # Scale by grid size squared and return.\n",
    "    dif2 = dif2/dx**2\n",
    "\n",
    "    return dif2"
   ],
   "metadata": {
    "collapsed": false,
    "pycharm": {
     "name": "#%%\n"
    }
   }
  },
  {
   "cell_type": "code",
   "execution_count": 75,
   "outputs": [],
   "source": [
    "# Apply periodic boundary conditions\n",
    "def PBC(Z):\n",
    "    # Fill two buffer columns\n",
    "    Z[ 0,:] = Z[-2,:]    # Fill column  0 from column -2\n",
    "    Z[-1,:] = Z[ 1,:]    # Fill column -1 from column  1\n",
    "\n",
    "    # Fill two buffer rows\n",
    "    Z[:, 0] = Z[:,-2]   # fill row  0 from row -2\n",
    "    Z[:,-1] = Z[:, 1]   # fill row -1 from row  1\n",
    "\n",
    "    # Fill four buffer corners\n",
    "    Z[0,0]   = Z[-2,-2]\n",
    "    Z[0,-1]  = Z[-2, 1]\n",
    "    Z[-1,0]  = Z[ 1,-2]\n",
    "    Z[-1,-1] = Z[ 1, 1]\n",
    "\n",
    "\n",
    "    return Z"
   ],
   "metadata": {
    "collapsed": false,
    "pycharm": {
     "name": "#%%\n"
    }
   }
  },
  {
   "cell_type": "markdown",
   "source": [],
   "metadata": {
    "collapsed": false,
    "pycharm": {
     "name": "#%% md\n"
    }
   }
  },
  {
   "cell_type": "code",
   "execution_count": 76,
   "outputs": [],
   "source": [
    "# Apply plane-wave perturbations to a given field\n",
    "# field is an array, k is the wavenumber, and A is the perturbation amplitude\n",
    "def perturba(field, k, A):\n",
    "    for x in range(len(field)):\n",
    "        for y in range(len(field)):\n",
    "            field[x, y] += A*np.sin(k*float(y))\n",
    "            field[x, y] += A*np.sin(k*float(x))\n",
    "    return field\n"
   ],
   "metadata": {
    "collapsed": false,
    "pycharm": {
     "name": "#%%\n"
    }
   }
  },
  {
   "cell_type": "code",
   "execution_count": 77,
   "outputs": [],
   "source": [
    "# Auxiliar field inside the laplacian operator (in the dynamical equation for c)\n",
    "\n",
    "# inlaplacian = c mu* + alpha' s^2, which is what is inside the Laplacian operator in the\n",
    "# dynamical equation for the conserved variable c\n",
    "def generalized_mu(c, s):\n",
    "# DEBUG\n",
    "#     print(\"inlaplacian::\")\n",
    "#     print(\"inlaplacian::input: <c>=\",             c.mean(), \"+/-\",           c.std())\n",
    "\n",
    "    mu_estrella= np.full((N,N), 0.000)  # CAREFUL mu_estrella = c is an alias, not a copy, of the object \"c\"\n",
    "\n",
    "    for i in np.arange(N):\n",
    "        for j in np.arange(N):\n",
    "            mu_estrella[i][j] = mu_bar(c[i][j],sw_lambda,T)\n",
    "\n",
    "    resultado= mu_bar_0 * mu_estrella + alphap * (s**2)/2.0\n",
    "\n",
    "# DEBUG\n",
    "#     print(\"inlaplacian::out: <c>=\", c.mean(), \"+/-\", c.std())\n",
    "#     print(\"inlaplacian::out: <mu*>=\", mu_estrella.mean(), \"+/-\", mu_estrella.std())\n",
    "#     print(\"inlaplacian::out: <res>=\",   resultado.mean(), \"+/-\",   resultado.std())\n",
    "\n",
    "    return resultado"
   ],
   "metadata": {
    "collapsed": false,
    "pycharm": {
     "name": "#%%\n"
    }
   }
  },
  {
   "cell_type": "code",
   "execution_count": 78,
   "outputs": [],
   "source": [
    "# Advance the fields using the dynamics for one time step\n",
    "def solve_dynamics(c,s):\n",
    "\n",
    "\n",
    "    thermal_s = np.random.normal(mu_mean, sigma_stdev, (L,L))\n",
    "    thermal_c = np.random.normal(mu_mean, sigma_stdev, (L,L))\n",
    "\n",
    "\n",
    "    # DEBUG:\n",
    "    #print(\"solve_dynamics::time_step=\",time_step)\n",
    "    # print(\"solve_dynamics::input: <c>=\", c.mean(), \"+/-\", c.std())\n",
    "    #\n",
    "    # For dilute HS:\n",
    "    # auxHS = c + alphap * s**2\n",
    "\n",
    "    # For SW:\n",
    "    auxSW = generalized_mu(c,s)\n",
    "\n",
    "    #nabla2_aux almacena laplaciano de aux\n",
    "    nabla2_aux = laplacian2D(auxSW)\n",
    "    nabla2_s   = laplacian2D(s)\n",
    "\n",
    "    #parámetro de orden y concentracion en el centro\n",
    "    sc = s[1:-1,1:-1]\n",
    "    cc = c[1:-1,1:-1]\n",
    "\n",
    "    #Ecuaciones no lineales, se hace un incremento en el tiempo\n",
    "    s[1:-1,1:-1] = sc + dt * (nabla2_s - tau * sc - sc**3 - sc * cc)  + thermal_s\n",
    "    c[1:-1,1:-1] = cc + dt * R * nabla2_aux + thermal_c\n",
    "\n",
    "    #s[1:-1,1:-1] = sc + dt * (nabla2_s - r * sc - sc**3 - sc * cc)\n",
    "    #c[1:-1,1:-1] = cc + dt * R * nabla2_aux\n",
    "\n",
    "    #se aplican condiciones periodicas en la frontera tanto en s como en c\n",
    "    for x in (s, c):\n",
    "        PBC(x)\n",
    "\n",
    "    # DEBUG\n",
    "#     print(\"solve_dynamics::<auxSW>=\", auxSW.mean(), \"+/-\", auxSW.std())\n",
    "#     print(\"solve_dynamics::<auxHS>=\", auxHS.mean(), \"+/-\", auxHS.std())\n",
    "#     print(\"solve_dynamics::<nabla2_aux>=\", nabla2_aux.mean(), \"+/-\", nabla2_aux.std())\n",
    "#     print(\"solve_dynamics::out: <c>=\", c.mean(), \"+/-\", c.std())"
   ],
   "metadata": {
    "collapsed": false,
    "pycharm": {
     "name": "#%%\n"
    }
   }
  },
  {
   "cell_type": "markdown",
   "source": [
    "## Output functions"
   ],
   "metadata": {
    "collapsed": false,
    "pycharm": {
     "name": "#%% md\n"
    }
   }
  },
  {
   "cell_type": "code",
   "execution_count": 79,
   "outputs": [],
   "source": [
    "# Save s and c fields to files\n",
    "def save_fields(s, c, step, nb):\n",
    "    LC_file = \"matrix\" + \"_s_\" + str(step) + \"_nb_\" + str(nb) + \".txt\"\n",
    "    np.savetxt(LC_file, s, delimiter=\"\\t\")\n",
    "\n",
    "    NPs_file = \"matrix\" + \"_c_\" + str(step) + \"_nb_\" + str(nb) + \".vtk\"\n",
    "    np.savetxt(NPs_file, c, delimiter=\"\\t\")"
   ],
   "metadata": {
    "collapsed": false,
    "pycharm": {
     "name": "#%%\n"
    }
   }
  },
  {
   "cell_type": "code",
   "execution_count": 80,
   "outputs": [],
   "source": [
    "# Plot the 2D arrays, using grayscale for c and \"seismic\" colormap for s\n",
    "def plot_fields_in_2D(s,c,i):\n",
    "\n",
    "    plt.figure(figsize=(10, 3.5))\n",
    "\n",
    "    plt.subplot(1, 2, 1)\n",
    "    plt.imshow(c[1:-1,1:-1], cmap=plt.cm.gray)\n",
    "    plt.colorbar()\n",
    "\n",
    "    plt.subplot(1, 2, 2)\n",
    "    plt.imshow(s[1:-1,1:-1], cmap=plt.cm.seismic)\n",
    "    plt.colorbar()\n",
    "\n",
    "    plt.savefig('fields_step_{}.png'.format(i))\n",
    "    plt.show()"
   ],
   "metadata": {
    "collapsed": false,
    "pycharm": {
     "name": "#%%\n"
    }
   }
  },
  {
   "cell_type": "code",
   "execution_count": 81,
   "outputs": [],
   "source": [
    "# Plot 1D profiles of c and s, using black for c and red for s\n",
    "def plot_fields_in_1D(s,c,i):\n",
    "    plt.figure(figsize=(10, 3.5))\n",
    "\n",
    "    plt.subplot(1, 2, 1)\n",
    "    plt.plot(c[1:-1,1:-1], \"k\")  # k means blacK\n",
    "\n",
    "\n",
    "    plt.subplot(1, 2, 2)\n",
    "    plt.plot(s[1:-1,1:-1], \"r\")  # r means Red\n",
    "\n",
    "    plt.savefig('profile_fields_step_{}.png'.format(i))\n",
    "    plt.show()"
   ],
   "metadata": {
    "collapsed": false,
    "pycharm": {
     "name": "#%%\n"
    }
   }
  },
  {
   "cell_type": "markdown",
   "source": [
    "# Main simulation: quench from isotropic to nematic phase"
   ],
   "metadata": {
    "collapsed": false,
    "pycharm": {
     "name": "#%% md\n"
    }
   }
  },
  {
   "cell_type": "markdown",
   "source": [
    "## Initialize the program"
   ],
   "metadata": {
    "collapsed": false,
    "pycharm": {
     "name": "#%% md\n"
    }
   }
  },
  {
   "cell_type": "code",
   "execution_count": 82,
   "outputs": [
    {
     "name": "stdout",
     "output_type": "stream",
     "text": [
      "the wavenumber k= 0.04908738521234052\n",
      "c.mean = 0.0500 s.mean = 0.0010\n",
      "c.min  = 0.0480  s.min = -0.0010\n",
      "c.max  = 0.0520  s.max = 0.0030\n"
     ]
    },
    {
     "data": {
      "text/plain": "<Figure size 720x252 with 4 Axes>",
      "image/png": "[encoded data removed]"
     },
     "metadata": {
      "needs_background": "light"
     },
     "output_type": "display_data"
    }
   ],
   "source": [
    "# Initial conditions for c and s start as homogenoeus fields\n",
    "for block in range(1, nb+1):\n",
    "    c = np.full((N,N), c0)\n",
    "    s = np.full((N,N), s0)\n",
    "\n",
    "# Calculate the wavelength and the wavenumber from size L\n",
    "# and number of wavelengths in it\n",
    "wavelength = L // n_wavelengths       #  CAREFUL: // is the integer division operator\n",
    "k = 2.0 * np.pi / wavelength          #  k=2 pi/wavelength is the wavenumber\n",
    "print('the wavenumber k=',k)\n",
    "\n",
    "# Apply plane-wave perturbations to s and c\n",
    "for field in (s,c):\n",
    "    perturba(field, k, Ampl)\n",
    "\n",
    "# Print out statistics and plots of c and s to diagnose initial conditions\n",
    "print(\"c.mean = {:.4f} s.mean = {:.4f}\" .format(c.mean(), s.mean()))\n",
    "print(\"c.min  = {:.4f}  s.min = {:.4f}\" .format(c.min(), s.min()))\n",
    "print(\"c.max  = {:.4f}  s.max = {:.4f}\" .format(c.max(), s.max()))\n",
    "\n",
    "# Plot s and c in 2D and 1D to diagnose initial conditions\n",
    "plt.figure(figsize=(10, 3.5))\n",
    "plt.subplot(1, 2, 1)\n",
    "plt.imshow(c[1:-1,1:-1], cmap=plt.cm.gray)\n",
    "plt.colorbar()\n",
    "plt.subplot(1, 2, 2)\n",
    "plt.imshow(s[1:-1,1:-1], cmap=plt.cm.seismic)\n",
    "plt.colorbar()\n",
    "plt.savefig('fields_step_0.png')\n",
    "plt.show()\n",
    "\n",
    "#plot_fields_in_1D(s, c, i)\n",
    "\n",
    "\n",
    "\n",
    "# Export figures of initial conditions\n",
    "\n",
    "#dir = os.chdir('/home/erick/Desktop/pruebas/campo_C')\n",
    "#plt.imshow(c, cmap=plt.cm.gray)\n",
    "#plt.colorbar()\n",
    "#plt.savefig('imagen0.png')\n",
    "#plt.show()\n",
    "\n",
    "#dir = os.chdir('/home/erick/Desktop/pruebas/Campo_S')\n",
    "#plt.imshow(s, cmap=plt.cm.seismic)\n",
    "#plt.colorbar()\n",
    "#plt.savefig('imagen0.png')\n"
   ],
   "metadata": {
    "collapsed": false,
    "pycharm": {
     "name": "#%%\n"
    }
   }
  },
  {
   "cell_type": "code",
   "execution_count": 83,
   "outputs": [
    {
     "name": "stdout",
     "output_type": "stream",
     "text": [
      "<class 'numpy.ndarray'>\n"
     ]
    }
   ],
   "source": [
    "# Save initial conditions to files\n",
    "NPs_file = \"matrix\" + \"_c_\" + str(0)+ \"_nb_\" + str(nb) + \".vtk\"\n",
    "np.savetxt(NPs_file, c, delimiter=\"\\t\")\n",
    "print(type(c))"
   ],
   "metadata": {
    "collapsed": false,
    "pycharm": {
     "name": "#%%\n"
    }
   }
  },
  {
   "cell_type": "markdown",
   "source": [
    "## Solve the dynamics"
   ],
   "metadata": {
    "collapsed": false,
    "pycharm": {
     "name": "#%% md\n"
    }
   }
  },
  {
   "cell_type": "code",
   "execution_count": null,
   "outputs": [
    {
     "name": "stdout",
     "output_type": "stream",
     "text": [
      "Program will run nTimeSteps:  1000\n",
      "Print results each print_period steps:  100\n",
      "Total simulation time at the end: 10.0\n",
      "Temperature: = 1.500\n",
      "SW range lambda  = 1.110\n",
      "wavenumber k = 0.049\n",
      "wavelength = 128.000\n"
     ]
    }
   ],
   "source": [
    "print(\"Program will run nTimeSteps: \", nTimeSteps)\n",
    "print(\"Print results each print_period steps: \", print_period)\n",
    "print(\"Total simulation time at the end:\", T_total)\n",
    "\n",
    "print(\"Temperature: = {:.3f}\" .format(T))\n",
    "print(\"SW range lambda  = {:.3f}\" .format(1+sw_lambda/10.0))\n",
    "print(\"wavenumber k = {:.3f}\" .format(k))\n",
    "print(\"wavelength = {:.3f}\" .format(wavelength))\n",
    "\n",
    "# Apply periodic boundary conditions to fields s & c\n",
    "for x in (s,c):\n",
    "    PBC(x)\n",
    "\n",
    "# declare empty arrays vacíos\n",
    "time_step = []\n",
    "amplitude_c_step = []\n",
    "amplitude_s_step=[]\n",
    "\n",
    "#define el tiempo inicial de corrida, será igual al tiempo real de comienzo\n",
    "t0 = time.time()\n",
    "\n",
    "# Save initial state\n",
    "#save_fields(s, c, 0, block)\n",
    "\n",
    "\n",
    "# Solve the dynamics\n",
    "for i in range(1,nTimeSteps+1):\n",
    "\n",
    "    solve_dynamics(c,s)\n",
    "    #save_fields(s, c, i, block)\n",
    "\n",
    "    if( (i % print_period) == 0 ):\n",
    "        print(\" \")\n",
    "        print(\"time_step=\", i)\n",
    "\n",
    "        tf = time.time()\n",
    "        print(\"Tiempo CPU en segundos: {:.2f}\" .format(tf-t0))\n",
    "\n",
    "\n",
    "        print(\"c.mean = {:.4f} s.mean = {:.4f}\" .format(c.mean(), s.mean()))\n",
    "        print(\"c.min  = {:.4f}  s.min = {:.4f}\" .format(c.min(), s.min()))\n",
    "        print(\"c.max  = {:.4f}  s.max = {:.4f}\" .format(c.max(), s.max()))\n",
    "\n",
    "        plot_fields_in_2D(s,c,i)\n",
    "        plot_fields_in_1D(s,c,i)\n",
    "\n",
    "\n",
    "#    Save to disk the pictures for the NP concentration and LC order parameter\n",
    "\n",
    "#    plt.imshow(c, cmap=plt.cm.gray)\n",
    "#    plt.colorbar()\n",
    "#    plt.savefig('imagen{}.png'.format(i))\n",
    "#    plt.show()\n",
    "\n",
    "\n",
    "#    plt.imshow(s, cmap=plt.cm.seismic)\n",
    "#    plt.colorbar()\n",
    "#    plt.savefig('imagen{}.png'.format(i))\n",
    "#    plt.show()\n",
    "\n",
    "\n",
    "        # Measure the amplitude of the perturbations in c and s over time\n",
    "        # Sample the central region\n",
    "        region_min = N//4         # Careful, // means integer division\n",
    "        region_max = N//4 + N//2  # Again, // means integer division\n",
    "\n",
    "        region_c = c[region_min:region_max]\n",
    "        region_s=  s[region_min:region_max]\n",
    "\n",
    "        # Obtain min and max for c and s in that region\n",
    "        max_region_c= region_c.max()\n",
    "        max_region_s= region_s.max()\n",
    "        min_region_c= region_c.min()\n",
    "        min_region_s= region_s.min()\n",
    "\n",
    "        # Amplitude for each field equals half the range between the maximum and minimum values\n",
    "        amplitude_c= (max_region_c-min_region_c)/2\n",
    "        amplitude_s= (max_region_s-min_region_s)/2\n",
    "\n",
    "        # Print out statistics\n",
    "        print(\"max_region_c:\",max_region_c, \", max_region_s:\",max_region_s )\n",
    "        print(\"min_region_c:\",min_region_c, \", min_region_s:\",min_region_s,)\n",
    "        print(\"amplitude_c:\",amplitude_c,   \", amplitude_s:\",amplitude_s)\n",
    "\n",
    "        # Collect amplitudes and corresponding time steps into arrays\n",
    "        time_step.append(float(i))\n",
    "        amplitude_c_step.append(amplitude_c)\n",
    "        amplitude_s_step.append(amplitude_s)\n",
    "\n",
    "\n",
    "print(\"Program end.\")\n",
    "# End of main simulation program"
   ],
   "metadata": {
    "collapsed": false,
    "pycharm": {
     "name": "#%%\n",
     "is_executing": true
    }
   }
  },
  {
   "cell_type": "markdown",
   "source": [
    "# Analysis of amplitude vs time"
   ],
   "metadata": {
    "collapsed": false,
    "pycharm": {
     "name": "#%% md\n"
    }
   }
  },
  {
   "cell_type": "code",
   "execution_count": null,
   "outputs": [],
   "source": [
    "# Plot amplitude of NP concentration c vs time_step\n",
    "plt.plot(time_step, amplitude_c_step, \"k-\")\n",
    "plt.xlabel(\"t\")\n",
    "plt.ylabel(\"NP concentration amplitude \")\n",
    "plt.savefig('amplitude_time_c.png')\n",
    "plt.show()"
   ],
   "metadata": {
    "collapsed": false,
    "pycharm": {
     "name": "#%%\n",
     "is_executing": true
    }
   }
  },
  {
   "cell_type": "code",
   "execution_count": null,
   "outputs": [],
   "source": [
    "# Plot amplitude of LC order parameter s vs time_step\n",
    "plt.plot(time_step, amplitude_s_step, \"r-\")\n",
    "plt.xlabel(\"t\")\n",
    "plt.ylabel(\"LC Order parameter amplitude\")\n",
    "plt.savefig('amplitude_time_s.png')\n",
    "plt.show()"
   ],
   "metadata": {
    "collapsed": false,
    "pycharm": {
     "name": "#%%\n",
     "is_executing": true
    }
   }
  },
  {
   "cell_type": "code",
   "execution_count": null,
   "outputs": [],
   "source": [
    "plt.semilogy(time_step, amplitude_c_step, \"k-\")\n",
    "plt.savefig('amplitude_time_semilog_c.png')"
   ],
   "metadata": {
    "collapsed": false,
    "pycharm": {
     "name": "#%%\n",
     "is_executing": true
    }
   }
  },
  {
   "cell_type": "code",
   "execution_count": null,
   "outputs": [],
   "source": [
    "plt.semilogy(time_step, amplitude_s_step, \"r-\")\n",
    "plt.savefig('amplitude_time_semilog_s.png')\n",
    "\n"
   ],
   "metadata": {
    "collapsed": false,
    "pycharm": {
     "name": "#%%\n",
     "is_executing": true
    }
   }
  }
 ],
 "metadata": {
  "kernelspec": {
   "display_name": "Python 3 (ipykernel)",
   "language": "python",
   "name": "python3"
  },
  "language_info": {
   "codemirror_mode": {
    "name": "ipython",
    "version": 3
   },
   "file_extension": ".py",
   "mimetype": "text/x-python",
   "name": "python",
   "nbconvert_exporter": "python",
   "pygments_lexer": "ipython3",
   "version": "3.7.4"
  }
 },
 "nbformat": 4,
 "nbformat_minor": 4
}